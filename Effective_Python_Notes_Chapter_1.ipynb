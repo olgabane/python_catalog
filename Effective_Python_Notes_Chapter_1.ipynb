{
 "cells": [
  {
   "cell_type": "markdown",
   "metadata": {},
   "source": [
    "## 'Effective Python' Notes\n",
    "\n",
    "### Chapter 1: Pythonic thinking"
   ]
  },
  {
   "cell_type": "code",
   "execution_count": 1,
   "metadata": {},
   "outputs": [
    {
     "name": "stdout",
     "output_type": "stream",
     "text": [
      "The Zen of Python, by Tim Peters\n",
      "\n",
      "Beautiful is better than ugly.\n",
      "Explicit is better than implicit.\n",
      "Simple is better than complex.\n",
      "Complex is better than complicated.\n",
      "Flat is better than nested.\n",
      "Sparse is better than dense.\n",
      "Readability counts.\n",
      "Special cases aren't special enough to break the rules.\n",
      "Although practicality beats purity.\n",
      "Errors should never pass silently.\n",
      "Unless explicitly silenced.\n",
      "In the face of ambiguity, refuse the temptation to guess.\n",
      "There should be one-- and preferably only one --obvious way to do it.\n",
      "Although that way may not be obvious at first unless you're Dutch.\n",
      "Now is better than never.\n",
      "Although never is often better than *right* now.\n",
      "If the implementation is hard to explain, it's a bad idea.\n",
      "If the implementation is easy to explain, it may be a good idea.\n",
      "Namespaces are one honking great idea -- let's do more of those!\n"
     ]
    }
   ],
   "source": [
    "import this"
   ]
  },
  {
   "cell_type": "markdown",
   "metadata": {},
   "source": [
    "#####  Python version \n",
    "On command line:  \n",
    "$ python --version  \n",
    "Python 3.6.8 :: Anaconda custom (64-bit)"
   ]
  },
  {
   "cell_type": "markdown",
   "metadata": {},
   "source": [
    "##### PEP8\n",
    "\n",
    "**Whitespace:**  \n",
    "\n",
    "- 4 spaces for indentation\n",
    "- Lined <= 79 characters\n",
    "- Continuation of long lines indented by 4 extra spaces\n",
    "- In file, function and classes separated by 2 blank lines\n",
    "- In class, methods separated by 1 blank line\n",
    "- One space before and after variable assignments\n",
    "\n",
    "**Naming:**\n",
    "\n",
    "- functions, variables, attributes in lowercase_underscore format.\n",
    "- protected instance attributes in \\_leading_underscore format.\n",
    "- private instance attributes in \\_\\_double_leading_underscore format. \n",
    "- Classes in CapitalizedWord format. \n",
    "- Module-level constants in ALL_CAPS format. \n",
    "\n",
    "**Expressions and statements**:\n",
    "\n",
    "- inline negation is better than negation of positive expressions: \n",
    "    - **if a is not b** vs. if not a is b\n",
    "- check empty values using **if not somelist** rather than if len(somelist) == 0. \n",
    "    - Similarly, use **if something** for non-empty values (evaluates to True if not empty). \n",
    "- spread **if** statemend, **for** and **while** loops and **except** statements over multiple lines for clarity. \n",
    "- Put **import** statements at top of file.\n",
    "- Use absolute, not relative names, when importing modules. \n",
    "\n",
    "Pylint is a good linter to enforce the PEP 8 style guide."
   ]
  },
  {
   "cell_type": "markdown",
   "metadata": {},
   "source": [
    "##### bytes, str and unicode\n",
    "\n",
    "- In python3, two types represnt sequences of characters: bytes and str.\n",
    "    - Instances of **bytes** contrain raw **8-bit** values (binary). These are **machine-readable** and can thus be directly stored on disk.\n",
    "    - Instances of **str** contain **Unicode** characters. These are **human-readable** and must thus be encoded (to Byte object) before they can be stored on disk.\n",
    "        - An encoding is a format to represent audio, images, text, etc in bytes.\n",
    "        - PNG, JPEG, MP3, WAV, ASCII, UTF-8 are forms of encoding. \n",
    "        - Strings are converted to bytes using either ASCII or UTF-8 encoding.\n",
    "        \n",
    "- Encoding and decoding of Unicode (str) should be done at the _furthest boundary of your interfaces._ Core of program should use unicode character types and should not assume anything about character encoding. Output text encoding should ideally by UTF-8.\n",
    "\n",
    "- Note that operators involving file handles (returned by the **open** function) default to UTF-8 encoding. \n",
    "    - must use 'wb', 'rb' parameters when reading and writing binary files (rather than 'w' and 'b')."
   ]
  },
  {
   "cell_type": "code",
   "execution_count": 13,
   "metadata": {},
   "outputs": [
    {
     "name": "stdout",
     "output_type": "stream",
     "text": [
      "string_to_be_encoded\n",
      "<class 'str'>\n",
      "b'string_to_be_encoded'\n",
      "<class 'bytes'>\n",
      "b'string_to_be_encoded'\n",
      "<class 'bytes'>\n",
      "True\n",
      "True\n"
     ]
    }
   ],
   "source": [
    "# encode string to bytes using either UTF-8 or ASCII\n",
    "a = 'string_to_be_encoded'\n",
    "print(a)\n",
    "print(type(a))\n",
    "c = a.encode('UTF-8')\n",
    "print(c)\n",
    "print(type(c))\n",
    "d = a.encode('ASCII')\n",
    "print(d)\n",
    "print(type(d))\n",
    "# decode\n",
    "e = c.decode()\n",
    "print(a==e)\n",
    "# No need to specify encoding type when decoding\n",
    "f = d.decode()\n",
    "print(a==f)"
   ]
  },
  {
   "cell_type": "code",
   "execution_count": 17,
   "metadata": {},
   "outputs": [],
   "source": [
    "def to_str(bytes_or_string):\n",
    "    if isinstance(bytes_or_string, bytes):\n",
    "        new_val = bytes_or_string.decode('UTF-8')\n",
    "    else: \n",
    "        new_val = bytes_or_string\n",
    "    return new_val\n",
    "\n",
    "def to_bytes(bytes_or_string):\n",
    "    if isinstance(bytes_or_string, str):\n",
    "        new_val = bytes_or_string.encode('UTF-8')\n",
    "    else:\n",
    "        new_val = bytes_or_string\n",
    "    return new_val\n",
    "        "
   ]
  },
  {
   "cell_type": "code",
   "execution_count": 18,
   "metadata": {},
   "outputs": [
    {
     "name": "stdout",
     "output_type": "stream",
     "text": [
      "<class 'str'>\n",
      "<class 'bytes'>\n",
      "<class 'str'>\n",
      "<class 'str'>\n",
      "<class 'bytes'>\n",
      "<class 'bytes'>\n"
     ]
    }
   ],
   "source": [
    "print(type(a))\n",
    "print(type(c))\n",
    "a_to_str = to_str(a)\n",
    "c_to_str = to_str(c)\n",
    "print(type(a_to_str))\n",
    "print(type(c_to_str))\n",
    "a_to_bytes = to_bytes(a)\n",
    "c_to_bytes = to_bytes(c)\n",
    "print(type(a_to_bytes))\n",
    "print(type(c_to_bytes))"
   ]
  },
  {
   "cell_type": "markdown",
   "metadata": {},
   "source": [
    "##### write helper functions instead of complex expressions\n",
    "\n",
    "- As soon as expressions get complex, split them into smaller pieces and write a helper function.\n",
    "- parse_qs returns: Dictionary keys are the unique query variable names and the values are lists of values for each name."
   ]
  },
  {
   "cell_type": "code",
   "execution_count": 38,
   "metadata": {},
   "outputs": [
    {
     "name": "stdout",
     "output_type": "stream",
     "text": [
      "{'red': ['5'], 'blue': ['0'], 'green': ['']}\n",
      "\n",
      "Red: ['5']\n",
      "Blue: ['0']\n",
      "Green: ['']\n",
      "Yellow: None\n"
     ]
    }
   ],
   "source": [
    "from urllib.parse import parse_qs\n",
    "my_values = parse_qs('red=5&blue=0&green=', keep_blank_values=True)\n",
    "print(f'{my_values}\\n')\n",
    "\n",
    "print(f\"Red: {my_values.get('red')}\")\n",
    "print(f\"Blue: {my_values.get('blue')}\")\n",
    "print(f\"Green: {my_values.get('green')}\") \n",
    "print(f\"Yellow: {my_values.get('yellow')}\") "
   ]
  },
  {
   "cell_type": "code",
   "execution_count": 42,
   "metadata": {},
   "outputs": [
    {
     "name": "stdout",
     "output_type": "stream",
     "text": [
      "Red: 5\n",
      "Blue: 0\n",
      "Green: 0\n",
      "Yellow: 0\n"
     ]
    }
   ],
   "source": [
    "# Empty string, empty list and 0 evaluate to False. \n",
    "# If you want 0 in all 3 cases, one (BAD) option is to use a Boolean expression\n",
    "# Note dict's get method has parameter of value to return if key does not exist, \n",
    "# which we must use here\n",
    "print(f\"Red: {my_values.get('red', [''])[0] or 0}\")\n",
    "print(f\"Blue: {my_values.get('blue', [''])[0] or 0}\")\n",
    "print(f\"Green: {my_values.get('green', [''])[0] or 0}\") \n",
    "print(f\"Yellow: {my_values.get('yellow', [''])[0] or 0}\") "
   ]
  },
  {
   "cell_type": "code",
   "execution_count": 45,
   "metadata": {},
   "outputs": [],
   "source": [
    "# BETTER option: write a helper function!\n",
    "# And we'll add additional logic to ensure that int is returned\n",
    "\n",
    "def get_first_int(values, key):\n",
    "    found = values.get(key, [''])\n",
    "    if found[0]:\n",
    "        found = int(found[0])\n",
    "    else:\n",
    "        found = 0\n",
    "    return found\n",
    "        "
   ]
  },
  {
   "cell_type": "code",
   "execution_count": 48,
   "metadata": {},
   "outputs": [
    {
     "name": "stdout",
     "output_type": "stream",
     "text": [
      "Red: 5\n",
      "Blue: 0\n",
      "Green: 0\n",
      "Yellow: 0\n"
     ]
    }
   ],
   "source": [
    "print(f\"Red: {get_first_int(my_values, 'red')}\")\n",
    "print(f\"Blue: {get_first_int(my_values, 'blue')}\")\n",
    "print(f\"Green: {get_first_int(my_values, 'green')}\")\n",
    "print(f\"Yellow: {get_first_int(my_values, 'yellow')}\")"
   ]
  },
  {
   "cell_type": "markdown",
   "metadata": {},
   "source": [
    "##### slice sequences\n",
    "\n",
    "- Simplest use: for built-in classes **list, str, bytes**. \n",
    "- Can be extended to any class that implements the \\_\\_getitem\\_\\_ and \\_\\_setitem\\_\\_ methods.\n",
    "- start is **inclusive** and end is **exclusive**.\n",
    "- Slicing makes a copy; original onject unaffected."
   ]
  },
  {
   "cell_type": "code",
   "execution_count": 55,
   "metadata": {},
   "outputs": [
    {
     "name": "stdout",
     "output_type": "stream",
     "text": [
      "['a', 'b', 'c', 'd']\n",
      "['e', 'f', 'g', 'h']\n",
      "['d', 'e']\n",
      "['h']\n"
     ]
    }
   ],
   "source": [
    "a = ['a', 'b', 'c', 'd', 'e', 'f', 'g', 'h']\n",
    "print(a[:4])\n",
    "print(a[-4:])\n",
    "print(a[3:-3])\n",
    "print(a[-1:])"
   ]
  },
  {
   "cell_type": "code",
   "execution_count": 58,
   "metadata": {},
   "outputs": [
    {
     "name": "stdout",
     "output_type": "stream",
     "text": [
      "['a', 'b', 'c', 'd', 'e', 'f', 'g', 'h']\n",
      "['a', 'b', 'c', 'd', 'e', 'f', 'g', 'h']\n"
     ]
    }
   ],
   "source": [
    "# Slicing deals with start and end indeces beyound the boundaries of a list\n",
    "# Indexing beyond boundaries causes an exception\n",
    "\n",
    "print(a[:20])\n",
    "print(a[-20:])\n",
    "# print(a[20])"
   ]
  },
  {
   "cell_type": "code",
   "execution_count": 62,
   "metadata": {},
   "outputs": [],
   "source": [
    "# leaving out start and end makes copy of whole list\n",
    "b = a[:]\n",
    "assert b == a\n",
    "assert b is not a"
   ]
  },
  {
   "cell_type": "markdown",
   "metadata": {},
   "source": [
    "##### stride of a slice syntax\n",
    "\n",
    "- stride allows you to take every n^th item when slicing a sequence\n",
    "- Avoid using start, end and stride together. It's confusing!\n",
    "- Avoid using negative stride; it's also confusing!"
   ]
  },
  {
   "cell_type": "code",
   "execution_count": 67,
   "metadata": {},
   "outputs": [
    {
     "name": "stdout",
     "output_type": "stream",
     "text": [
      "['a', 'c', 'e', 'g']\n",
      "['b', 'd', 'f', 'h']\n",
      "['c', 'e', 'g']\n",
      "['g', 'e', 'c', 'a']\n",
      "['g', 'e']\n"
     ]
    }
   ],
   "source": [
    "a = ['a', 'b', 'c', 'd', 'e', 'f', 'g', 'h']\n",
    "evens = a[::2]\n",
    "odds = a[1::2]\n",
    "print(evens)\n",
    "print(odds)\n",
    "print(a[2::2])\n",
    "# works, but confusing\n",
    "print(a[-2::-2])\n",
    "# works, but very confusing\n",
    "print(a[-2:2:-2])"
   ]
  },
  {
   "cell_type": "markdown",
   "metadata": {},
   "source": [
    "##### Use list comprehension instead of map and filter\n",
    "\n",
    "- list comprehension = compact syntac for deriving one list from another. \n",
    "- **list comprehensions** are clearer than **map** functions."
   ]
  },
  {
   "cell_type": "code",
   "execution_count": 77,
   "metadata": {},
   "outputs": [
    {
     "name": "stdout",
     "output_type": "stream",
     "text": [
      "[1, 4, 9]\n",
      "[1, 4, 9]\n"
     ]
    }
   ],
   "source": [
    "# list comprehension is preferred here\n",
    "a = [1, 2, 3]\n",
    "a_sqr = [x**2 for x in a]\n",
    "print(a_sqr)\n",
    "# map works, but is more confusing - requires a lambda function for the computation\n",
    "a_sqr_map = map(lambda x: x**2, a)\n",
    "print(list(a_sqr_map))"
   ]
  },
  {
   "cell_type": "code",
   "execution_count": 80,
   "metadata": {},
   "outputs": [
    {
     "name": "stdout",
     "output_type": "stream",
     "text": [
      "[4]\n"
     ]
    }
   ],
   "source": [
    "# filtering using list comprehension is also easier than using map (not shown)\n",
    "a_sqr_even = [x**2 for x in a if x%2 == 0]\n",
    "print(a_sqr_even)"
   ]
  },
  {
   "cell_type": "markdown",
   "metadata": {},
   "source": [
    "- Dictionaries and sets also have comprehensions"
   ]
  },
  {
   "cell_type": "code",
   "execution_count": 85,
   "metadata": {},
   "outputs": [
    {
     "name": "stdout",
     "output_type": "stream",
     "text": [
      "{'one': 1, 'two': 2, 'three': 3}\n",
      "{1: 'one', 2: 'two', 3: 'three'}\n"
     ]
    }
   ],
   "source": [
    "my_dict = dict(one = 1, two = 2, three = 3)\n",
    "print(my_dict)\n",
    "reverse_my_dict = {v:k for k, v in my_dict.items()}\n",
    "print(reverse_my_dict)"
   ]
  },
  {
   "cell_type": "code",
   "execution_count": 86,
   "metadata": {},
   "outputs": [
    {
     "data": {
      "text/plain": [
       "{str}"
      ]
     },
     "execution_count": 86,
     "metadata": {},
     "output_type": "execute_result"
    }
   ],
   "source": [
    "{type(v) for v in reverse_my_dict.values()}"
   ]
  },
  {
   "cell_type": "markdown",
   "metadata": {},
   "source": [
    "##### avoid more than two expressions in list comprehension\n",
    "\n",
    "- below examples are reasonable"
   ]
  },
  {
   "cell_type": "code",
   "execution_count": 91,
   "metadata": {},
   "outputs": [
    {
     "name": "stdout",
     "output_type": "stream",
     "text": [
      "[1, 2, 3, 4, 5, 6, 7, 8, 9]\n",
      "[1, 2, 3, 4, 5, 6, 7, 8, 9]\n"
     ]
    }
   ],
   "source": [
    "# expressions run in order provided from left to right\n",
    "list_of_lists = [[1, 2, 3], [4, 5, 6], [7, 8, 9]]\n",
    "flat = [x for one_list in list_of_lists for x in one_list]\n",
    "print(flat)\n",
    "\n",
    "# list comprehension is equivalent to \n",
    "flat_list_w_loop = []\n",
    "for one_list in list_of_lists:\n",
    "    for x in one_list:\n",
    "        flat_list_w_loop.append(x)\n",
    "        \n",
    "print(flat_list_w_loop)"
   ]
  },
  {
   "cell_type": "code",
   "execution_count": 94,
   "metadata": {},
   "outputs": [
    {
     "name": "stdout",
     "output_type": "stream",
     "text": [
      "[[1, 4, 9], [16, 25, 36], [49, 64, 81]]\n"
     ]
    }
   ],
   "source": [
    "# square each \n",
    "squared = [[x**2 for x in one_list] for one_list in list_of_lists]\n",
    "print(squared)"
   ]
  },
  {
   "cell_type": "code",
   "execution_count": 105,
   "metadata": {},
   "outputs": [
    {
     "name": "stdout",
     "output_type": "stream",
     "text": [
      "[6, 8]\n",
      "[6, 8]\n",
      "[0, 0, 0, 0, 0, 6, 0, 8, 0]\n"
     ]
    }
   ],
   "source": [
    "# multiple if statement allowed in list comprehensions\n",
    "# two ways to include multiple if statements\n",
    "filtered_1 = [x for x in flat_list_w_loop if x > 4 and x % 2 == 0]\n",
    "filtered_2 = [x for x in flat_list_w_loop if x > 4 if x % 2 == 0]\n",
    "print(filtered_1)\n",
    "print(filtered_2)\n",
    "\n",
    "# else statement in list comprehension\n",
    "# not that if statement must move\n",
    "filtered_3 = [x if x > 4 and x % 2 == 0 else 0 for x in flat_list_w_loop]\n",
    "print(filtered_3)\n"
   ]
  },
  {
   "cell_type": "markdown",
   "metadata": {},
   "source": [
    "##### Consider generator expressions for large comprehensions\n",
    "\n",
    "- List comprehensions create a whole new list.\n",
    "- For large inputs, this can consume a significant amount of memory and crash your program. \n",
    "- _**Generator expressions**_ allow list comprehension to return iterator.*\n",
    "- Syntax: list-comprehension syntax between '( )'."
   ]
  },
  {
   "cell_type": "code",
   "execution_count": 109,
   "metadata": {},
   "outputs": [
    {
     "name": "stdout",
     "output_type": "stream",
     "text": [
      "<generator object <genexpr> at 0x10b462e60>\n",
      "0\n",
      "1\n",
      "4\n"
     ]
    }
   ],
   "source": [
    "list_a = [0, 1, 2, 3, 4, 5]\n",
    "it_a = (x**2 for x in list_a)\n",
    "print(it_a)\n",
    "for i in range(3):\n",
    "    print(next(it_a))"
   ]
  },
  {
   "cell_type": "markdown",
   "metadata": {},
   "source": [
    "##### Prefer iterator over range"
   ]
  },
  {
   "cell_type": "code",
   "execution_count": 116,
   "metadata": {},
   "outputs": [
    {
     "name": "stdout",
     "output_type": "stream",
     "text": [
      "apple\n",
      "pear\n",
      "kiwi\n",
      "orange\n",
      "\n",
      "\n",
      "Item 0: apple\n",
      "Item 1: pear\n",
      "Item 2: kiwi\n",
      "Item 3: orange\n",
      "\n",
      "\n",
      "Item 0: apple\n",
      "Item 1: pear\n",
      "Item 2: kiwi\n",
      "Item 3: orange\n"
     ]
    }
   ],
   "source": [
    "item_list = ['apple', 'pear', 'kiwi', 'orange']\n",
    "\n",
    "# print items in list\n",
    "for item in item_list:\n",
    "    print(item)\n",
    "    \n",
    "# Now, ptint item with number    \n",
    "# This is not advised - clunky!\n",
    "print('\\n')\n",
    "for i in range(len(item_list)):\n",
    "    print(f\"Item {i}: {item_list[i]}\")\n",
    "    \n",
    "# Instead, use enumerate:\n",
    "print('\\n')\n",
    "for i, item in enumerate(item_list):\n",
    "    print(f\"Item {i}: {item}\")    "
   ]
  },
  {
   "cell_type": "markdown",
   "metadata": {},
   "source": [
    "##### Use zip to process iterators in parallel\n",
    "\n",
    "- Note that zip returns an iterator in python 3"
   ]
  },
  {
   "cell_type": "code",
   "execution_count": 121,
   "metadata": {},
   "outputs": [
    {
     "name": "stdout",
     "output_type": "stream",
     "text": [
      "Mark: A\n",
      "Jack: B\n",
      "Bill: C\n",
      "['Mark', 'Jack', 'Bill', 'Lenny']\n",
      "Mark: A\n",
      "Jack: B\n",
      "Bill: C\n"
     ]
    }
   ],
   "source": [
    "students = ['Mark', 'Jack', 'Bill']\n",
    "grades = ['A', 'B', 'C']\n",
    "\n",
    "for s, g in zip(students, grades):\n",
    "    print(f\"{s}: {g}\")\n",
    "    \n",
    "# Note zip behavior with unequal lists.\n",
    "# Zip yields tuples until a list is exhausted. Longer list will get chopped!\n",
    "students.append('Lenny')\n",
    "print(students)\n",
    "for s, g in zip(students, grades):\n",
    "    print(f\"{s}: {g}\")\n"
   ]
  },
  {
   "cell_type": "markdown",
   "metadata": {},
   "source": [
    "##### Avoid else block after for and while loops\n",
    "\n",
    "- Python (unusually) allows else block outside for and while loops.   \n",
    "- Don't use this! It's confusing and has unpredictable behavior."
   ]
  },
  {
   "cell_type": "markdown",
   "metadata": {},
   "source": [
    "##### Use each block in try/except/else/finally\n",
    "\n",
    "- There are 4 potential times to take an action when handling an exception (captured in try/except/else/finally).  \n",
    "- Various combinations are useful."
   ]
  },
  {
   "cell_type": "markdown",
   "metadata": {},
   "source": [
    "1. Use **try/finally** when you want exception to propagate up, but you want to run clean up code even when the exception occurs. \n",
    "\n",
    "Common example: want to close a file handle even when exception occurs. \n",
    "\n",
    "- Note that exception raised by read method will propagate up to the calling code. \n",
    "- close method is guaranteed to run. \n",
    "- note that the fact that the open method is outside the try/finally block ensures that the close method will not be executed if we get an error when opening the file. "
   ]
  },
  {
   "cell_type": "code",
   "execution_count": 122,
   "metadata": {},
   "outputs": [],
   "source": [
    "handle = open('file1.txt') # May raise FileNotFoundError\n",
    "try: \n",
    "    data = handle.read() # May raise UnicodeDecodeError\n",
    "finally:\n",
    "    handle.close() # Always runs after try"
   ]
  },
  {
   "cell_type": "markdown",
   "metadata": {},
   "source": [
    "2. Use **try/except/else** to make it clear which exceptions will be hnadled by your code and which exceptions will propagate up. When the try block doesn't raise an exxception, the else block will run. \n",
    "\n",
    "3. Use **try/except/else/finally** when you want to do it all in one compound statement."
   ]
  }
 ],
 "metadata": {
  "kernelspec": {
   "display_name": "Python 3",
   "language": "python",
   "name": "python3"
  },
  "language_info": {
   "codemirror_mode": {
    "name": "ipython",
    "version": 3
   },
   "file_extension": ".py",
   "mimetype": "text/x-python",
   "name": "python",
   "nbconvert_exporter": "python",
   "pygments_lexer": "ipython3",
   "version": "3.6.5"
  }
 },
 "nbformat": 4,
 "nbformat_minor": 2
}
