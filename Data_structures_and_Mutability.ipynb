{
 "cells": [
  {
   "cell_type": "markdown",
   "metadata": {},
   "source": [
    "# Python catalog: Data structure and Mutability"
   ]
  },
  {
   "cell_type": "markdown",
   "metadata": {},
   "source": [
    "### primitive data structures in python\n",
    "\n",
    "- integer\n",
    "- float\n",
    "- string \n",
    "- boolean\n",
    "\n",
    "- primitive data types are **immutable**"
   ]
  },
  {
   "cell_type": "code",
   "execution_count": 12,
   "metadata": {},
   "outputs": [
    {
     "name": "stdout",
     "output_type": "stream",
     "text": [
      "4447673104\n",
      "4447672840\n",
      "7.1\n"
     ]
    }
   ],
   "source": [
    "# floats are immutable\n",
    "# when value of variable changes, it changes what the variable refers to\n",
    "\n",
    "x = 4.1\n",
    "print(id(x))\n",
    "x = x + 3\n",
    "print(id(x))\n",
    "print(x)"
   ]
  },
  {
   "cell_type": "code",
   "execution_count": 13,
   "metadata": {},
   "outputs": [
    {
     "name": "stdout",
     "output_type": "stream",
     "text": [
      "4450660112\n",
      "4450002544\n",
      "hello there \n",
      "\n",
      "s2: second\n",
      "s2 location: 4419506784\n",
      "s3: second string\n",
      "s3 location: 4450666544\n"
     ]
    }
   ],
   "source": [
    "# strings are also immutable\n",
    "\n",
    "s = 'hello'\n",
    "print(id(s))\n",
    "s = s + ' there'\n",
    "print(id(s))\n",
    "print(s, \"\\n\")\n",
    "\n",
    "s2 = 'second'\n",
    "s3 = s2 + ' string'\n",
    "print(f\"s2: {s2}\\ns2 location: {id(s2)}\")\n",
    "print(f\"s3: {s3}\\ns3 location: {id(s3)}\")"
   ]
  },
  {
   "cell_type": "markdown",
   "metadata": {},
   "source": [
    "Python is a dynamically typed language.\n",
    "\n",
    "- You do not have to explicitly state the type of the variable. \n",
    "- The type of data an object can store is **mutable**."
   ]
  },
  {
   "cell_type": "code",
   "execution_count": 14,
   "metadata": {},
   "outputs": [
    {
     "name": "stdout",
     "output_type": "stream",
     "text": [
      "a location: 4413019584, \n",
      "b location: 4413019616, \n",
      "c location: 4413019616\n",
      "new c location: 4413019840, \n",
      "b location remains the same: 4413019616\n"
     ]
    }
   ],
   "source": [
    "# two variables set to the same value point to the same place in memory\n",
    "\n",
    "a = 4 \n",
    "b = 5\n",
    "c = 5\n",
    "print(f\"a location: {id(a)}, \\nb location: {id(b)}, \\nc location: {id(c)}\")\n",
    "c = 12\n",
    "print(f\"new c location: {id(c)}, \\nb location remains the same: {id(b)}\")\n"
   ]
  },
  {
   "cell_type": "code",
   "execution_count": 15,
   "metadata": {},
   "outputs": [
    {
     "name": "stdout",
     "output_type": "stream",
     "text": [
      "f location: 4413020224\n",
      "g location: 4413020224\n"
     ]
    }
   ],
   "source": [
    "f = 24 \n",
    "print(f\"f location: {id(f)}\")\n",
    "f = 25\n",
    "g = 24\n",
    "print(f\"g location: {id(g)}\")\n"
   ]
  },
  {
   "cell_type": "code",
   "execution_count": 16,
   "metadata": {},
   "outputs": [
    {
     "name": "stdout",
     "output_type": "stream",
     "text": [
      "True\n",
      "False\n"
     ]
    }
   ],
   "source": [
    "# NOTE that python keeps an array of integer objects for all integers between -5 and 256. \n",
    "# When you create an integer in that range, you get back a reference to the already existing object.\n",
    "# Otherwise\n",
    "\n",
    "q = 1\n",
    "w = 1\n",
    "print(id(q) == id(w))\n",
    "\n",
    "r = 280\n",
    "t = 280\n",
    "print(id(r) == id(t))\n"
   ]
  },
  {
   "cell_type": "markdown",
   "metadata": {},
   "source": [
    "### 4 built in data strucures in python \n",
    "\n",
    "1. List\n",
    "2. Dictionary\n",
    "3. Tuple \n",
    "4. Set"
   ]
  },
  {
   "cell_type": "markdown",
   "metadata": {},
   "source": [
    "List\n",
    "\n",
    "- Can contain any data type: ints, strings, lists, etc. \n",
    "- **Mutable**; Variable length (can grow and shrink)\n",
    "- Accessed like strings: slicing and concatenation\n",
    "- Actually C arrays (act like an array of pointers)"
   ]
  },
  {
   "cell_type": "code",
   "execution_count": 17,
   "metadata": {},
   "outputs": [],
   "source": [
    "my_list = [1, 2, 3, 5, 6, 'seven', 'eight', 'nine', 'ten']"
   ]
  },
  {
   "cell_type": "code",
   "execution_count": 18,
   "metadata": {},
   "outputs": [
    {
     "name": "stdout",
     "output_type": "stream",
     "text": [
      "[1, 2, 3, 5, 6, 'seven', 'eight', 'nine', 'ten']\n",
      "[1, 2, 3, 5, 6, 'seven', 'eight', 'nine', 'ten', 11]\n",
      "[1, 2, 3, 5, 6, 'seven', 'nine', 'ten', 11]\n",
      "[1, 2, 3, 6, 'seven', 'nine', 'ten', 11]\n"
     ]
    }
   ],
   "source": [
    "print(my_list)\n",
    "my_list.append(11)\n",
    "print(my_list)\n",
    "my_list.pop(6)\n",
    "print(my_list)\n",
    "my_list.remove(5)\n",
    "print(my_list)"
   ]
  },
  {
   "cell_type": "code",
   "execution_count": 19,
   "metadata": {},
   "outputs": [
    {
     "name": "stdout",
     "output_type": "stream",
     "text": [
      "[1, 2, 3, 6, 'seven', 'nine', 'ten', 11]\n",
      "4413019488\n",
      "4450385800\n",
      "[12, 2, 3, 6, 'seven', 'nine', 'ten', 11]\n",
      "4413019840\n",
      "4450385800\n"
     ]
    }
   ],
   "source": [
    "print(my_list)\n",
    "print(id(my_list[0]))\n",
    "print(id(my_list))\n",
    "# when we change element in list - the location of that element changes! BUT the location of the list does not.\n",
    "my_list[0] = 12\n",
    "print(my_list)\n",
    "print(id(my_list[0]))\n",
    "print(id(my_list))"
   ]
  },
  {
   "cell_type": "code",
   "execution_count": 20,
   "metadata": {},
   "outputs": [
    {
     "name": "stdout",
     "output_type": "stream",
     "text": [
      "list location: 4450665032\n",
      "list location: 4447226568\n"
     ]
    }
   ],
   "source": [
    "# NOTE that list comprehensions create a new list\n",
    "\n",
    "list_for_comprehension = [1, 2, 3]\n",
    "print(f\"list location: {id(list_for_comprehension)}\")\n",
    "list_for_comprehension = [x*2 for x in list_for_comprehension]\n",
    "print(f\"list location: {id(list_for_comprehension)}\")\n"
   ]
  },
  {
   "cell_type": "code",
   "execution_count": 37,
   "metadata": {},
   "outputs": [
    {
     "name": "stdout",
     "output_type": "stream",
     "text": [
      "4450631752 \n",
      " 4450698760 \n",
      " 4450608008\n"
     ]
    }
   ],
   "source": [
    "# Slicing a list also creates a new list\n",
    "list_y = [1, 2, 3]\n",
    "list_x = list_y[1:]\n",
    "list_z = list_y[0:]\n",
    "print(id(list_x),'\\n',id(list_y),'\\n',id(list_z))"
   ]
  },
  {
   "cell_type": "markdown",
   "metadata": {},
   "source": [
    "Dictionary\n",
    " \n",
    "- Similar to **hash** or **maps** in other languages. \n",
    "- A mapping object maps hashable values to arbitrary objects. \n",
    "    - Mappings are **mutable** objects. \n",
    "    - Dictionaries are the standard mapping objects in python.\n",
    "\n",
    "\n",
    "- Dictionaries are indexed by keys (unlike sequences, which are indexed by numbers). \n",
    "- Keys must be **immutable**: therefore, a key can be:\n",
    "    - number\n",
    "    - string\n",
    "    - tuple containing only immutable datatypes\n",
    "    "
   ]
  },
  {
   "cell_type": "code",
   "execution_count": 23,
   "metadata": {},
   "outputs": [
    {
     "name": "stdout",
     "output_type": "stream",
     "text": [
      "dict_a: {1: 'one', 2: 'two'},\n",
      "dict_b: {'one': 'one', 'two': 'two'},\n",
      "dict_c: {(1, 'one'): 'one', (2, 'two'): 'two'}\n",
      "one\n"
     ]
    }
   ],
   "source": [
    "dict_a = {1: 'one', 2: 'two'}\n",
    "dict_b = {'one': 'one', 'two': 'two'}\n",
    "dict_c = {(1, 'one'): 'one', (2, 'two'): 'two'}\n",
    "print(f\"dict_a: {dict_a},\\ndict_b: {dict_b},\\ndict_c: {dict_c}\")\n",
    "print(dict_c[(1, 'one')])"
   ]
  },
  {
   "cell_type": "code",
   "execution_count": 24,
   "metadata": {},
   "outputs": [
    {
     "name": "stdout",
     "output_type": "stream",
     "text": [
      "dict_d: {3: 'three', 4: 'four'}\n",
      "dict_e: {'three': 'three', 'four': 'four'}\n"
     ]
    }
   ],
   "source": [
    "# Dictionaries can be created using {} or dict function\n",
    "dict_d = {3: 'three', 4: 'four'}\n",
    "dict_e = dict(three ='three', four = 'four')\n",
    "print(f\"dict_d: {dict_d}\\ndict_e: {dict_e}\")"
   ]
  },
  {
   "cell_type": "code",
   "execution_count": 25,
   "metadata": {},
   "outputs": [
    {
     "name": "stdout",
     "output_type": "stream",
     "text": [
      "{'three': 'three', 'four': 'four'}\n",
      "{'three': 'three', 'four': 'four'}\n",
      "{1: 'one', 2: 'two'}\n"
     ]
    }
   ],
   "source": [
    "# dict is an overloaded function\n",
    "print(dict(three ='three', four = 'four'))\n",
    "print(dict(zip(['three', 'four'], ['three', 'four'])))\n",
    "print(dict(zip([1, 2], ['one', 'two'])))"
   ]
  },
  {
   "cell_type": "code",
   "execution_count": 26,
   "metadata": {},
   "outputs": [
    {
     "data": {
      "text/plain": [
       "{2: 4, 4: 16, 6: 36}"
      ]
     },
     "execution_count": 26,
     "metadata": {},
     "output_type": "execute_result"
    }
   ],
   "source": [
    "# can use list comprehension to build dictionary!\n",
    "{x: x**2 for x in (2, 4, 6)}"
   ]
  },
  {
   "cell_type": "code",
   "execution_count": 27,
   "metadata": {},
   "outputs": [
    {
     "name": "stdout",
     "output_type": "stream",
     "text": [
      "1\n",
      "2\n",
      "one\n",
      "two\n",
      "1 one\n",
      "2 two\n",
      "one\n"
     ]
    }
   ],
   "source": [
    "# Accessing keys and values\n",
    "for key in dict_a.keys():\n",
    "    print(key)\n",
    "for values in dict_a.values():\n",
    "    print(values)\n",
    "for k, v in dict_a.items():\n",
    "    print(k, v)\n",
    "print(dict_a[1])"
   ]
  },
  {
   "cell_type": "markdown",
   "metadata": {},
   "source": [
    "Tuples\n",
    "\n",
    "- Like python lists, but **immutable**"
   ]
  },
  {
   "cell_type": "code",
   "execution_count": 28,
   "metadata": {},
   "outputs": [],
   "source": [
    "t1 = (0, )\n",
    "t2 = (0, 1)\n",
    "t3 = (0, 1, 4, 5)\n",
    "# tuples don't requre parentheses (but often easier to distinguish)\n",
    "t4 = 0, 1, 4, 5\n",
    "t5 = 0,"
   ]
  },
  {
   "cell_type": "code",
   "execution_count": 29,
   "metadata": {},
   "outputs": [
    {
     "name": "stdout",
     "output_type": "stream",
     "text": [
      "<class 'tuple'>\n",
      "<class 'tuple'>\n",
      "<class 'tuple'>\n"
     ]
    }
   ],
   "source": [
    "print(type(t3))\n",
    "print(type(t4))\n",
    "print(type(t5))"
   ]
  },
  {
   "cell_type": "code",
   "execution_count": 30,
   "metadata": {},
   "outputs": [
    {
     "name": "stdout",
     "output_type": "stream",
     "text": [
      "4\n"
     ]
    }
   ],
   "source": [
    "# Can index tuple\n",
    "print(t3[2])\n",
    "# Can't mutate tuple (below results in error)\n",
    "# t3[2] = 5"
   ]
  },
  {
   "cell_type": "code",
   "execution_count": 31,
   "metadata": {},
   "outputs": [
    {
     "name": "stdout",
     "output_type": "stream",
     "text": [
      "5\n"
     ]
    }
   ],
   "source": [
    "# Nested tuple\n",
    "\n",
    "t6 = (1, (3, 4), (4, 5))\n",
    "print(t6[2][1])"
   ]
  },
  {
   "cell_type": "markdown",
   "metadata": {},
   "source": [
    "Sets\n",
    "\n",
    "- Unordered collection of unique objects\n",
    "    - because set is unordered, it does not support indexing\n",
    "- **mutable**\n",
    "- methods: difference(), intersection(), etc."
   ]
  },
  {
   "cell_type": "code",
   "execution_count": 32,
   "metadata": {},
   "outputs": [],
   "source": [
    "s1 = set([1, 2, 3])\n",
    "s2 = set([1, 1, 1])"
   ]
  },
  {
   "cell_type": "code",
   "execution_count": 33,
   "metadata": {},
   "outputs": [
    {
     "name": "stdout",
     "output_type": "stream",
     "text": [
      "{1, 2, 3}\n",
      "{1}\n"
     ]
    }
   ],
   "source": [
    "print(s1)\n",
    "print(s2)"
   ]
  },
  {
   "cell_type": "code",
   "execution_count": 34,
   "metadata": {},
   "outputs": [
    {
     "name": "stdout",
     "output_type": "stream",
     "text": [
      "{1, 2, 3}\n",
      "{1, 2, 3, 9}\n",
      "{1, 2, 3, 9}\n"
     ]
    }
   ],
   "source": [
    "print(s1)\n",
    "s1.add(9)\n",
    "print(s1)\n",
    "# Cannot add duplicate valie\n",
    "s1.add(9)\n",
    "print(s1)"
   ]
  },
  {
   "cell_type": "markdown",
   "metadata": {},
   "source": [
    "### Immutable and mutable objects as function parameters"
   ]
  },
  {
   "cell_type": "markdown",
   "metadata": {},
   "source": [
    "Why you shouldn't pass mutable data types as function parameters\n",
    "\n",
    "- For **immutable** variables, no matter how many times the method is called with the same variable/value, the output will always be the same. \n",
    "- For **mutable** variables, means that calling the same method with the same variables does not guarantee the same output, because the variable can be mutated at any time by another metho."
   ]
  },
  {
   "cell_type": "code",
   "execution_count": 68,
   "metadata": {},
   "outputs": [
    {
     "name": "stdout",
     "output_type": "stream",
     "text": [
      "[0, 1, 2, 3]\n",
      "[0, 1, 2, 3, 3]\n",
      "[0, 1, 2, 3, 3]\n"
     ]
    }
   ],
   "source": [
    "# This is a bad idea!\n",
    "def add_to_list_incorrectly(a=[0, 1, 2]):\n",
    "    a.append(3)\n",
    "    return a\n",
    "\n",
    "a = add_to_list_incorrectly()\n",
    "print(a)\n",
    "b = add_to_list_incorrectly()\n",
    "print(b)\n",
    "print(a)"
   ]
  },
  {
   "cell_type": "code",
   "execution_count": 69,
   "metadata": {},
   "outputs": [
    {
     "name": "stdout",
     "output_type": "stream",
     "text": [
      "[0, 1, 2, 3, 3, 3]\n",
      "[0, 1, 2, 3, 3, 3, 3]\n",
      "[0, 1, 2, 3, 3, 3, 3]\n",
      "[0, 1, 2, 3, 3, 3, 3, 3]\n"
     ]
    }
   ],
   "source": [
    "print(add_to_list_incorrectly())\n",
    "print(add_to_list_incorrectly())\n",
    "print(a)\n",
    "add_to_list_incorrectly()\n",
    "print(a)"
   ]
  },
  {
   "cell_type": "markdown",
   "metadata": {},
   "source": [
    "What you should do intead"
   ]
  },
  {
   "cell_type": "code",
   "execution_count": 70,
   "metadata": {},
   "outputs": [
    {
     "name": "stdout",
     "output_type": "stream",
     "text": [
      "[0, 1, 2, 3]\n",
      "[0, 1, 2, 3]\n",
      "[0, 1, 2, 3]\n",
      "[0, 1, 2, 3, 3]\n",
      "[0, 1, 2, 3, 3]\n"
     ]
    }
   ],
   "source": [
    "def add_to_list_correctly(a=None):\n",
    "    if a is None:\n",
    "        a = [0, 1, 2]\n",
    "    a.append(3)\n",
    "    return a\n",
    "\n",
    "print(add_to_list_correctly())\n",
    "print(add_to_list_correctly())\n",
    "print(add_to_list_correctly())\n",
    "print(add_to_list_correctly(a=[0, 1, 2, 3]))\n",
    "print(add_to_list_correctly(a=[0, 1, 2, 3]))"
   ]
  },
  {
   "cell_type": "code",
   "execution_count": 75,
   "metadata": {},
   "outputs": [
    {
     "name": "stdout",
     "output_type": "stream",
     "text": [
      "[6, 5, 4]\n",
      "[6, 5, 4, 3]\n",
      "[6, 5, 4, 3]\n"
     ]
    }
   ],
   "source": [
    "# Another demonstration that a list is mutable\n",
    "d_list = [6, 5, 4]\n",
    "print(d_list)\n",
    "e_list = add_to_list_correctly(d_list)\n",
    "print(e_list)\n",
    "print(d_list)"
   ]
  },
  {
   "cell_type": "markdown",
   "metadata": {},
   "source": [
    "Immutable variables as function params are OK"
   ]
  },
  {
   "cell_type": "code",
   "execution_count": 71,
   "metadata": {},
   "outputs": [
    {
     "name": "stdout",
     "output_type": "stream",
     "text": [
      "12\n",
      "12\n",
      "12\n"
     ]
    }
   ],
   "source": [
    "def add_to_int(c=4):\n",
    "    return c+8\n",
    "\n",
    "print(add_to_int())\n",
    "print(add_to_int())   \n",
    "print(add_to_int())    "
   ]
  },
  {
   "cell_type": "markdown",
   "metadata": {},
   "source": [
    "### Immutable and mutable objects and efficient code"
   ]
  },
  {
   "cell_type": "markdown",
   "metadata": {},
   "source": [
    "Need to consider whether data type is mutable or immutable to write efficient code:\n",
    "\n",
    "- Python handles mutable and immutable objects differently. Immutable are quicker to access than mutable objects. Also, immutable objects are fundamentally expensive to \"change\", because doing so involves creating a copy. Changing mutable objects is cheap. For example, concatenating strings in loops wastes lots of memory (strings are immutable, so concatenating two strings creates a third strign). Use list compression join technique instead.\n",
    "\n"
   ]
  }
 ],
 "metadata": {
  "kernelspec": {
   "display_name": "Python 3",
   "language": "python",
   "name": "python3"
  },
  "language_info": {
   "codemirror_mode": {
    "name": "ipython",
    "version": 3
   },
   "file_extension": ".py",
   "mimetype": "text/x-python",
   "name": "python",
   "nbconvert_exporter": "python",
   "pygments_lexer": "ipython3",
   "version": "3.6.5"
  }
 },
 "nbformat": 4,
 "nbformat_minor": 2
}
