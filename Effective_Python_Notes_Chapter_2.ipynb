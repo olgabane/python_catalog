{
 "cells": [
  {
   "cell_type": "markdown",
   "metadata": {},
   "source": [
    "## 'Effective Python' Notes\n",
    "\n",
    "### Chapter 2: Functions"
   ]
  },
  {
   "cell_type": "markdown",
   "metadata": {},
   "source": [
    "##### Prefer exceptions to returning None\n",
    "\n",
    "- Although returning None sometimes seems logical, returning None from a function is error prone and a bad idea.\n"
   ]
  },
  {
   "cell_type": "code",
   "execution_count": 1,
   "metadata": {},
   "outputs": [],
   "source": [
    "def division(a, b):\n",
    "    try:\n",
    "        return a/b\n",
    "    except ZeroDivisionError:\n",
    "        return None"
   ]
  },
  {
   "cell_type": "code",
   "execution_count": 2,
   "metadata": {},
   "outputs": [
    {
     "name": "stdout",
     "output_type": "stream",
     "text": [
      "0.75\n",
      "Invalid inputs\n",
      "0.0\n",
      "Invalid inputs\n",
      "None\n",
      "Invalid inputs\n"
     ]
    }
   ],
   "source": [
    "result1 = division(3, 4)\n",
    "result2 = division(0, 4)\n",
    "result3 = division(4, 0)\n",
    "\n",
    "# Note that result 2 erroneously results in invalid input. \n",
    "# This is wrong!!\n",
    "for result in [result1, result2, result3]:\n",
    "    if not result2:\n",
    "        print(result)\n",
    "        print('Invalid inputs')"
   ]
  },
  {
   "cell_type": "code",
   "execution_count": 4,
   "metadata": {},
   "outputs": [],
   "source": [
    "# Raise an exception instead!1\n",
    "def division_better(a, b):\n",
    "    try:\n",
    "        return a/b\n",
    "    except ZeroDivisionError as e:\n",
    "        raise ValueError('Invalid inputs') from e"
   ]
  },
  {
   "cell_type": "code",
   "execution_count": 9,
   "metadata": {},
   "outputs": [
    {
     "name": "stdout",
     "output_type": "stream",
     "text": [
      "0.75\n",
      "0.0\n"
     ]
    }
   ],
   "source": [
    "result4 = division_better(3, 4)\n",
    "print(result4)\n",
    "result5 = division_better(0, 4)\n",
    "print(result5)\n",
    "# Raises error (commented out)\n",
    "#result6 = division_better(4, 0)"
   ]
  },
  {
   "cell_type": "code",
   "execution_count": null,
   "metadata": {},
   "outputs": [],
   "source": []
  }
 ],
 "metadata": {
  "kernelspec": {
   "display_name": "Python 3",
   "language": "python",
   "name": "python3"
  },
  "language_info": {
   "codemirror_mode": {
    "name": "ipython",
    "version": 3
   },
   "file_extension": ".py",
   "mimetype": "text/x-python",
   "name": "python",
   "nbconvert_exporter": "python",
   "pygments_lexer": "ipython3",
   "version": "3.6.5"
  }
 },
 "nbformat": 4,
 "nbformat_minor": 2
}
